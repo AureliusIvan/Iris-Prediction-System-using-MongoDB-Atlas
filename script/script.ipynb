{
 "cells": [
  {
   "cell_type": "code",
   "execution_count": 8,
   "metadata": {},
   "outputs": [
    {
     "name": "stdout",
     "output_type": "stream",
     "text": [
      "Dataset uploaded to MongoDB Atlas\n"
     ]
    },
    {
     "ename": "SystemExit",
     "evalue": "0",
     "output_type": "error",
     "traceback": [
      "An exception has occurred, use %tb to see the full traceback.\n",
      "\u001b[0;31mSystemExit\u001b[0m\u001b[0;31m:\u001b[0m 0\n"
     ]
    },
    {
     "name": "stderr",
     "output_type": "stream",
     "text": [
      "/home/ivan/Project/AI-Project/Iris-Prediction-System/iris_venv/lib64/python3.12/site-packages/IPython/core/interactiveshell.py:3585: UserWarning: To exit: use 'exit', 'quit', or Ctrl-D.\n",
      "  warn(\"To exit: use 'exit', 'quit', or Ctrl-D.\", stacklevel=1)\n"
     ]
    }
   ],
   "source": [
    "# upload dataset to mongodb atlas\n",
    "import os\n",
    "import sys\n",
    "import pandas as pd\n",
    "from pymongo import MongoClient\n",
    "from dotenv import load_dotenv\n",
    "\n",
    "load_dotenv()\n",
    "\n",
    "def main():\n",
    "    # connect to mongodb atlas\n",
    "    try:\n",
    "      client = MongoClient(os.getenv('MONGO_URI'))\n",
    "      db = client['iris']\n",
    "      collection = db['iris']\n",
    "\n",
    "      # read dataset\n",
    "      data = pd.read_csv(\"./../data/raw/Iris.csv\").to_dict(orient='records')\n",
    "\n",
    "      # insert dataset\n",
    "      collection.insert_many(data)\n",
    "      print('Dataset uploaded to MongoDB Atlas')\n",
    "    except Exception as e:\n",
    "       print(e)\n",
    "\n",
    "if __name__ == '__main__':\n",
    "    main()\n",
    "    sys.exit(0)"
   ]
  }
 ],
 "metadata": {
  "kernelspec": {
   "display_name": "iris_venv",
   "language": "python",
   "name": "python3"
  },
  "language_info": {
   "codemirror_mode": {
    "name": "ipython",
    "version": 3
   },
   "file_extension": ".py",
   "mimetype": "text/x-python",
   "name": "python",
   "nbconvert_exporter": "python",
   "pygments_lexer": "ipython3",
   "version": "3.12.1"
  }
 },
 "nbformat": 4,
 "nbformat_minor": 2
}
